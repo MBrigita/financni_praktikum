{
 "cells": [
  {
   "cell_type": "code",
   "execution_count": 98,
   "metadata": {
    "collapsed": false
   },
   "outputs": [
   ],
   "source": [
    "def dom(G,k):\n",
    "    t = G.dominating_set(value_only= True)\n",
    "    kr = (G.cartesian_product(graphs.CompleteGraph(k))).dominating_set(value_only=True)\n",
    "    krt = (G.cartesian_product(graphs.CompleteGraph(k))).dominating_set(value_only=True, total=True)\n",
    "    return [t,kr,krt]"
   ]
  },
  {
   "cell_type": "code",
   "execution_count": 112,
   "metadata": {
    "collapsed": false
   },
   "outputs": [
   ],
   "source": [
    "def razmerje(v,k):\n",
    "    sez_inf = []\n",
    "    sez_sup = []\n",
    "    for i in range(2,k):\n",
    "        a = 11111111\n",
    "        b= 0\n",
    "        for g in graphs(v):\n",
    "            dom = dom(g,i)\n",
    "            if a > dom[2]/dom[0]:\n",
    "                a = dom[2]/dom[0]\n",
    "            if b < dom[2]/dom[1]:\n",
    "                b = dom[2]/dom[1]\n",
    "        sez_inf.append([i,a])\n",
    "        sez_sup.append([i,b])\n",
    "    return [sez_inf,sez_sup] \n",
    "    "
   ]
  },
  {
   "cell_type": "code",
   "execution_count": 0,
   "metadata": {
    "collapsed": false
   },
   "outputs": [
   ],
   "source": [
    "def spremeni_graf(G):\n",
    "    H = Graph(G)\n",
    "    if random() < 0.5:\n",
    "        H.delete_edge(H.random_edge())\n",
    "    else:\n",
    "        H.add_edge(H.complement().random_edge())\n",
    "    return H\n",
    "\n",
    "k = dom(G)\n",
    "while True:\n",
    "    H = spremeni_graf(G)\n",
    "    k = dom(H)"
   ]
  },
  {
   "cell_type": "code",
   "execution_count": 114,
   "metadata": {
    "collapsed": false
   },
   "outputs": [
    {
     "data": {
      "text/plain": [
       "[[[2, 4/3], [3, 2], [4, 2]], [[2, 2], [3, 2], [4, 2]]]"
      ]
     },
     "execution_count": 114,
     "metadata": {
     },
     "output_type": "execute_result"
    }
   ],
   "source": [
    "razmerje(8,5)"
   ]
  },
  {
   "cell_type": "code",
   "execution_count": 125,
   "metadata": {
    "collapsed": false,
    "scrolled": true
   },
   "outputs": [
   ],
   "source": [
    "razmerje(6,13)"
   ]
  }
 ],
 "metadata": {
  "kernelspec": {
   "display_name": "SageMath (stable)",
   "language": "sagemath",
   "metadata": {
    "cocalc": {
     "description": "Open-source mathematical software system",
     "priority": 10,
     "url": "https://www.sagemath.org/"
    }
   },
   "name": "sagemath"
  },
  "language_info": {
   "codemirror_mode": {
    "name": "ipython",
    "version": 2
   },
   "file_extension": ".py",
   "mimetype": "text/x-python",
   "name": "python",
   "nbconvert_exporter": "python",
   "pygments_lexer": "ipython2",
   "version": "2.7.15"
  }
 },
 "nbformat": 4,
 "nbformat_minor": 0
}